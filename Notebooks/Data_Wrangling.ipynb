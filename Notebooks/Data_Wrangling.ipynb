{
 "cells": [
  {
   "cell_type": "markdown",
   "id": "506242c8",
   "metadata": {},
   "source": [
    "# **Capstone II Data Wrangling**"
   ]
  },
  {
   "cell_type": "markdown",
   "id": "cfe6b522",
   "metadata": {},
   "source": [
    "### **Section 1: Imports and Initial Inspection**"
   ]
  },
  {
   "cell_type": "code",
   "execution_count": 1,
   "id": "78384120",
   "metadata": {},
   "outputs": [],
   "source": [
    "import pandas as pd\n",
    "import matplotlib.pyplot as plt\n",
    "import seaborn as sns"
   ]
  },
  {
   "cell_type": "code",
   "execution_count": 2,
   "id": "4ca0b7eb",
   "metadata": {},
   "outputs": [],
   "source": [
    "heart_data = pd.read_csv(\"../raw_data/heart_data_raw.csv\")"
   ]
  },
  {
   "cell_type": "code",
   "execution_count": 3,
   "id": "f5dce8dd",
   "metadata": {
    "scrolled": true
   },
   "outputs": [
    {
     "name": "stdout",
     "output_type": "stream",
     "text": [
      "Index(['Age', 'Sex', 'ChestPainType', 'RestingBP', 'Cholesterol', 'FastingBS',\n",
      "       'RestingECG', 'MaxHR', 'ExerciseAngina', 'Oldpeak', 'ST_Slope',\n",
      "       'HeartDisease'],\n",
      "      dtype='object')\n"
     ]
    }
   ],
   "source": [
    "print(heart_data.columns)"
   ]
  },
  {
   "cell_type": "code",
   "execution_count": 4,
   "id": "d6847117",
   "metadata": {},
   "outputs": [
    {
     "name": "stdout",
     "output_type": "stream",
     "text": [
      "<class 'pandas.core.frame.DataFrame'>\n",
      "RangeIndex: 918 entries, 0 to 917\n",
      "Data columns (total 12 columns):\n",
      " #   Column          Non-Null Count  Dtype  \n",
      "---  ------          --------------  -----  \n",
      " 0   Age             918 non-null    int64  \n",
      " 1   Sex             918 non-null    object \n",
      " 2   ChestPainType   918 non-null    object \n",
      " 3   RestingBP       918 non-null    int64  \n",
      " 4   Cholesterol     918 non-null    int64  \n",
      " 5   FastingBS       918 non-null    int64  \n",
      " 6   RestingECG      918 non-null    object \n",
      " 7   MaxHR           918 non-null    int64  \n",
      " 8   ExerciseAngina  918 non-null    object \n",
      " 9   Oldpeak         918 non-null    float64\n",
      " 10  ST_Slope        918 non-null    object \n",
      " 11  HeartDisease    918 non-null    int64  \n",
      "dtypes: float64(1), int64(6), object(5)\n",
      "memory usage: 86.2+ KB\n"
     ]
    }
   ],
   "source": [
    "heart_data.info()"
   ]
  },
  {
   "cell_type": "code",
   "execution_count": 5,
   "id": "28887d9b",
   "metadata": {},
   "outputs": [
    {
     "data": {
      "text/plain": [
       "Age               0\n",
       "Sex               0\n",
       "ChestPainType     0\n",
       "RestingBP         0\n",
       "Cholesterol       0\n",
       "FastingBS         0\n",
       "RestingECG        0\n",
       "MaxHR             0\n",
       "ExerciseAngina    0\n",
       "Oldpeak           0\n",
       "ST_Slope          0\n",
       "HeartDisease      0\n",
       "dtype: int64"
      ]
     },
     "execution_count": 5,
     "metadata": {},
     "output_type": "execute_result"
    }
   ],
   "source": [
    "heart_data.isnull().sum()"
   ]
  },
  {
   "cell_type": "code",
   "execution_count": 6,
   "id": "ad45fa1b",
   "metadata": {
    "scrolled": false
   },
   "outputs": [
    {
     "data": {
      "text/html": [
       "<div>\n",
       "<style scoped>\n",
       "    .dataframe tbody tr th:only-of-type {\n",
       "        vertical-align: middle;\n",
       "    }\n",
       "\n",
       "    .dataframe tbody tr th {\n",
       "        vertical-align: top;\n",
       "    }\n",
       "\n",
       "    .dataframe thead th {\n",
       "        text-align: right;\n",
       "    }\n",
       "</style>\n",
       "<table border=\"1\" class=\"dataframe\">\n",
       "  <thead>\n",
       "    <tr style=\"text-align: right;\">\n",
       "      <th></th>\n",
       "      <th>Age</th>\n",
       "      <th>Sex</th>\n",
       "      <th>ChestPainType</th>\n",
       "      <th>RestingBP</th>\n",
       "      <th>Cholesterol</th>\n",
       "      <th>FastingBS</th>\n",
       "      <th>RestingECG</th>\n",
       "      <th>MaxHR</th>\n",
       "      <th>ExerciseAngina</th>\n",
       "      <th>Oldpeak</th>\n",
       "      <th>ST_Slope</th>\n",
       "      <th>HeartDisease</th>\n",
       "    </tr>\n",
       "  </thead>\n",
       "  <tbody>\n",
       "    <tr>\n",
       "      <th>0</th>\n",
       "      <td>40</td>\n",
       "      <td>M</td>\n",
       "      <td>ATA</td>\n",
       "      <td>140</td>\n",
       "      <td>289</td>\n",
       "      <td>0</td>\n",
       "      <td>Normal</td>\n",
       "      <td>172</td>\n",
       "      <td>N</td>\n",
       "      <td>0.0</td>\n",
       "      <td>Up</td>\n",
       "      <td>0</td>\n",
       "    </tr>\n",
       "    <tr>\n",
       "      <th>1</th>\n",
       "      <td>49</td>\n",
       "      <td>F</td>\n",
       "      <td>NAP</td>\n",
       "      <td>160</td>\n",
       "      <td>180</td>\n",
       "      <td>0</td>\n",
       "      <td>Normal</td>\n",
       "      <td>156</td>\n",
       "      <td>N</td>\n",
       "      <td>1.0</td>\n",
       "      <td>Flat</td>\n",
       "      <td>1</td>\n",
       "    </tr>\n",
       "    <tr>\n",
       "      <th>2</th>\n",
       "      <td>37</td>\n",
       "      <td>M</td>\n",
       "      <td>ATA</td>\n",
       "      <td>130</td>\n",
       "      <td>283</td>\n",
       "      <td>0</td>\n",
       "      <td>ST</td>\n",
       "      <td>98</td>\n",
       "      <td>N</td>\n",
       "      <td>0.0</td>\n",
       "      <td>Up</td>\n",
       "      <td>0</td>\n",
       "    </tr>\n",
       "    <tr>\n",
       "      <th>3</th>\n",
       "      <td>48</td>\n",
       "      <td>F</td>\n",
       "      <td>ASY</td>\n",
       "      <td>138</td>\n",
       "      <td>214</td>\n",
       "      <td>0</td>\n",
       "      <td>Normal</td>\n",
       "      <td>108</td>\n",
       "      <td>Y</td>\n",
       "      <td>1.5</td>\n",
       "      <td>Flat</td>\n",
       "      <td>1</td>\n",
       "    </tr>\n",
       "    <tr>\n",
       "      <th>4</th>\n",
       "      <td>54</td>\n",
       "      <td>M</td>\n",
       "      <td>NAP</td>\n",
       "      <td>150</td>\n",
       "      <td>195</td>\n",
       "      <td>0</td>\n",
       "      <td>Normal</td>\n",
       "      <td>122</td>\n",
       "      <td>N</td>\n",
       "      <td>0.0</td>\n",
       "      <td>Up</td>\n",
       "      <td>0</td>\n",
       "    </tr>\n",
       "  </tbody>\n",
       "</table>\n",
       "</div>"
      ],
      "text/plain": [
       "   Age Sex ChestPainType  RestingBP  Cholesterol  FastingBS RestingECG  MaxHR  \\\n",
       "0   40   M           ATA        140          289          0     Normal    172   \n",
       "1   49   F           NAP        160          180          0     Normal    156   \n",
       "2   37   M           ATA        130          283          0         ST     98   \n",
       "3   48   F           ASY        138          214          0     Normal    108   \n",
       "4   54   M           NAP        150          195          0     Normal    122   \n",
       "\n",
       "  ExerciseAngina  Oldpeak ST_Slope  HeartDisease  \n",
       "0              N      0.0       Up             0  \n",
       "1              N      1.0     Flat             1  \n",
       "2              N      0.0       Up             0  \n",
       "3              Y      1.5     Flat             1  \n",
       "4              N      0.0       Up             0  "
      ]
     },
     "execution_count": 6,
     "metadata": {},
     "output_type": "execute_result"
    }
   ],
   "source": [
    "heart_data.head()"
   ]
  },
  {
   "cell_type": "markdown",
   "id": "5316ee36",
   "metadata": {},
   "source": [
    "### **1.1 Explanation of Columns**\n",
    "\n",
    "- Age: The participant's age (28 to 77).\n",
    "\n",
    "- Sex: The participant's sex (M or F).\n",
    "\n",
    "- ChestPainType: TA: Typical Angina, ATA: Atypical Angina, NAP: Non-Anginal Pain, ASY: Asymptomatic.\n",
    "    Angina is a kind of chest pain, and is often described as a squeezing or pressure around the heart area. Angina can be considered atypical if it occurs less predictably and in varying degrees of pain. We take non-anginal pain to be any other kind of bodily pain that isn't obviously not related to the heart. For example, the pain of a stubbed toe does not count as non-anginal pain, but perhaps an aching thigh might. We take asymptomatic to mean the complete absence of angina or any pain that might be related to it.\n",
    "    \n",
    "- RestingBP: Resting blood pressure in mmHg. Ranges from 80 to 200 mmHg. Blood pressure is the pressure of circulating blood against the boundaries of blood vessels. This is most likely systolic measurements, which have a higher domain than diastolic. Normal resting BP is below 120, and anything above 130 is hypertension territory. Above 180 and you should consult a doctor immediately.\n",
    "\n",
    "- Cholesterol: serum cholesterol (mg/dl). Cholesterol is a waxy fatty substance present in our bloodstream. It is absolutely essential for survival, being involved in things like hormone regulation, cell structure, and vitamin synthesis. It is important to note here that serum, or blood, cholesterol is not the same thing as dietary cholesterol. If serum cholesterol is found to be a risk factor for HD, it doesn't necessarily say anything about dietary cholesterol. A sample of serum cholesterol is measured in milligrams of cholesterol per deciliter of blood.\n",
    "\n",
    "- FastingBS: Fasting blood sugar. 1 if FastingBS > 120 mg/dl, 0 otherwise. Blood sugar is the measure of glucose (in milligrams) concentrated in (1 deciliter) of blood. A fasting blood sugar level of less than 100 is normal. 100-120 is thought of as pre-diabetic levels. A person with a fasting blood sugar over 120 is diabetic.\n",
    "\n",
    "- RestingECG: Resting electrocardiogram results. Normal: Normal, ST: having ST-T wave abnormality (T wave inversions and/or ST elevation or depression of > 0.05 mV), LVH: showing probable or definite left ventricular hypertrophy by Estes' criteria. Cardiograms measure electrical impulse vs. time. \n",
    "\n",
    "- MaxHR: Maximum heart rate achieved. Numeric value between 60 and 202 beats per minute. A common rule of thumb for what your maximum heart rate should be (without measuring) is to subtract your age from 220. Then, our youngest participant(age 28) would have a theoretical maximum heart rate of 192, and our eldest participant (77) would have a theoretical maximum heart rate of 143.\n",
    "\n",
    "- ExerciseAngina: exercise-induced angina. Y: Yes, N: No.\n",
    "\n",
    "- Oldpeak: Oldpeak = ST. Numeric value measured in depression. ST depression refers to an ECG segment abnormally below the baseline. Since the oldpeak metric here is tracked in positive millimeters *below* the baseline, negative measurements must mean millimeters above the baseline. The ST segment is a portion of an ECG that occurs after the QRS complex, and before the T wave. Normally, with a healthy heart, this segment would be mostly flat on the baseline. It is when it is measured below the baseline (positive numbers in this dataset) that HD may be a concern.\n",
    "\n",
    "- ST_Slope: The slope of the peak exercise ST segment Up: upsloping, Flat: flat, Down: downsloping. Again, this is the same portion of the ECG as in oldpeak. This feature is measuring the slope of the ST segment, rather than its position on or below the baseline. A flat or up ST_slope would be normal, as the ECG signal must increase positively to get back to the baseline from the end of the QRS segment, which is typically quite negative. "
   ]
  },
  {
   "cell_type": "markdown",
   "id": "f1777074",
   "metadata": {},
   "source": [
    "### 1.2 Validating Numerical Columns"
   ]
  },
  {
   "cell_type": "code",
   "execution_count": 7,
   "id": "c19bda3d",
   "metadata": {
    "scrolled": true
   },
   "outputs": [
    {
     "data": {
      "text/plain": [
       "count    918.000000\n",
       "mean      53.510893\n",
       "std        9.432617\n",
       "min       28.000000\n",
       "25%       47.000000\n",
       "50%       54.000000\n",
       "75%       60.000000\n",
       "max       77.000000\n",
       "Name: Age, dtype: float64"
      ]
     },
     "execution_count": 7,
     "metadata": {},
     "output_type": "execute_result"
    }
   ],
   "source": [
    "heart_data['Age'].describe()"
   ]
  },
  {
   "cell_type": "code",
   "execution_count": 8,
   "id": "78b7528f",
   "metadata": {},
   "outputs": [
    {
     "data": {
      "image/png": "[encoded data removed]",
      "text/plain": [
       "<Figure size 432x288 with 1 Axes>"
      ]
     },
     "metadata": {
      "needs_background": "light"
     },
     "output_type": "display_data"
    }
   ],
   "source": [
    "# Age looks good, no changes necessary.\n",
    "plt.hist(heart_data['Age'], bins = 30)\n",
    "plt.xlabel('Age')\n",
    "plt.ylabel('Count')\n",
    "plt.title('Age distribution')\n",
    "plt.show()"
   ]
  },
  {
   "cell_type": "code",
   "execution_count": 9,
   "id": "067e2702",
   "metadata": {},
   "outputs": [
    {
     "data": {
      "text/plain": [
       "count    918.000000\n",
       "mean     132.396514\n",
       "std       18.514154\n",
       "min        0.000000\n",
       "25%      120.000000\n",
       "50%      130.000000\n",
       "75%      140.000000\n",
       "max      200.000000\n",
       "Name: RestingBP, dtype: float64"
      ]
     },
     "execution_count": 9,
     "metadata": {},
     "output_type": "execute_result"
    }
   ],
   "source": [
    "# Minimum blood pressure of 0 must be addressed.\n",
    "heart_data['RestingBP'].describe()"
   ]
  },
  {
   "cell_type": "code",
   "execution_count": 10,
   "id": "6994514d",
   "metadata": {},
   "outputs": [
    {
     "data": {
      "text/html": [
       "<div>\n",
       "<style scoped>\n",
       "    .dataframe tbody tr th:only-of-type {\n",
       "        vertical-align: middle;\n",
       "    }\n",
       "\n",
       "    .dataframe tbody tr th {\n",
       "        vertical-align: top;\n",
       "    }\n",
       "\n",
       "    .dataframe thead th {\n",
       "        text-align: right;\n",
       "    }\n",
       "</style>\n",
       "<table border=\"1\" class=\"dataframe\">\n",
       "  <thead>\n",
       "    <tr style=\"text-align: right;\">\n",
       "      <th></th>\n",
       "      <th>Age</th>\n",
       "      <th>Sex</th>\n",
       "      <th>ChestPainType</th>\n",
       "      <th>RestingBP</th>\n",
       "      <th>Cholesterol</th>\n",
       "      <th>FastingBS</th>\n",
       "      <th>RestingECG</th>\n",
       "      <th>MaxHR</th>\n",
       "      <th>ExerciseAngina</th>\n",
       "      <th>Oldpeak</th>\n",
       "      <th>ST_Slope</th>\n",
       "      <th>HeartDisease</th>\n",
       "    </tr>\n",
       "  </thead>\n",
       "  <tbody>\n",
       "    <tr>\n",
       "      <th>449</th>\n",
       "      <td>55</td>\n",
       "      <td>M</td>\n",
       "      <td>NAP</td>\n",
       "      <td>0</td>\n",
       "      <td>0</td>\n",
       "      <td>0</td>\n",
       "      <td>Normal</td>\n",
       "      <td>155</td>\n",
       "      <td>N</td>\n",
       "      <td>1.5</td>\n",
       "      <td>Flat</td>\n",
       "      <td>1</td>\n",
       "    </tr>\n",
       "  </tbody>\n",
       "</table>\n",
       "</div>"
      ],
      "text/plain": [
       "     Age Sex ChestPainType  RestingBP  Cholesterol  FastingBS RestingECG  \\\n",
       "449   55   M           NAP          0            0          0     Normal   \n",
       "\n",
       "     MaxHR ExerciseAngina  Oldpeak ST_Slope  HeartDisease  \n",
       "449    155              N      1.5     Flat             1  "
      ]
     },
     "execution_count": 10,
     "metadata": {},
     "output_type": "execute_result"
    }
   ],
   "source": [
    "# Only one blood pressure entry below 50.\n",
    "heart_data[heart_data['RestingBP'] < 50]"
   ]
  },
  {
   "cell_type": "code",
   "execution_count": 11,
   "id": "c87ebaaa",
   "metadata": {},
   "outputs": [
    {
     "data": {
      "text/html": [
       "<div>\n",
       "<style scoped>\n",
       "    .dataframe tbody tr th:only-of-type {\n",
       "        vertical-align: middle;\n",
       "    }\n",
       "\n",
       "    .dataframe tbody tr th {\n",
       "        vertical-align: top;\n",
       "    }\n",
       "\n",
       "    .dataframe thead th {\n",
       "        text-align: right;\n",
       "    }\n",
       "</style>\n",
       "<table border=\"1\" class=\"dataframe\">\n",
       "  <thead>\n",
       "    <tr style=\"text-align: right;\">\n",
       "      <th></th>\n",
       "      <th>Age</th>\n",
       "      <th>Sex</th>\n",
       "      <th>ChestPainType</th>\n",
       "      <th>RestingBP</th>\n",
       "      <th>Cholesterol</th>\n",
       "      <th>FastingBS</th>\n",
       "      <th>RestingECG</th>\n",
       "      <th>MaxHR</th>\n",
       "      <th>ExerciseAngina</th>\n",
       "      <th>Oldpeak</th>\n",
       "      <th>ST_Slope</th>\n",
       "      <th>HeartDisease</th>\n",
       "    </tr>\n",
       "  </thead>\n",
       "  <tbody>\n",
       "  </tbody>\n",
       "</table>\n",
       "</div>"
      ],
      "text/plain": [
       "Empty DataFrame\n",
       "Columns: [Age, Sex, ChestPainType, RestingBP, Cholesterol, FastingBS, RestingECG, MaxHR, ExerciseAngina, Oldpeak, ST_Slope, HeartDisease]\n",
       "Index: []"
      ]
     },
     "execution_count": 11,
     "metadata": {},
     "output_type": "execute_result"
    }
   ],
   "source": [
    "# We will drop this value, as it also has 0 for cholesterol.\n",
    "heart_data = heart_data.drop(449)\n",
    "heart_data[heart_data['RestingBP'] < 50]"
   ]
  },
  {
   "cell_type": "code",
   "execution_count": 12,
   "id": "34f310b6",
   "metadata": {},
   "outputs": [
    {
     "data": {
      "text/plain": [
       "count    917.000000\n",
       "mean     132.540894\n",
       "std       17.999749\n",
       "min       80.000000\n",
       "25%      120.000000\n",
       "50%      130.000000\n",
       "75%      140.000000\n",
       "max      200.000000\n",
       "Name: RestingBP, dtype: float64"
      ]
     },
     "execution_count": 12,
     "metadata": {},
     "output_type": "execute_result"
    }
   ],
   "source": [
    "heart_data['RestingBP'].describe()"
   ]
  },
  {
   "cell_type": "code",
   "execution_count": 13,
   "id": "a5608602",
   "metadata": {},
   "outputs": [
    {
     "data": {
      "image/png": "[encoded data removed]",
      "text/plain": [
       "<Figure size 432x288 with 1 Axes>"
      ]
     },
     "metadata": {
      "needs_background": "light"
     },
     "output_type": "display_data"
    }
   ],
   "source": [
    "plt.hist(heart_data['RestingBP'], bins = 30)\n",
    "plt.xlabel('Resting Blood Pressure (mmHg)')\n",
    "plt.ylabel('Count')\n",
    "plt.title('Resting blood pressure distribution')\n",
    "plt.show()"
   ]
  },
  {
   "cell_type": "code",
   "execution_count": 14,
   "id": "67f20c8f",
   "metadata": {
    "scrolled": true
   },
   "outputs": [
    {
     "data": {
      "text/plain": [
       "count    917.000000\n",
       "mean     199.016358\n",
       "std      109.246330\n",
       "min        0.000000\n",
       "25%      174.000000\n",
       "50%      223.000000\n",
       "75%      267.000000\n",
       "max      603.000000\n",
       "Name: Cholesterol, dtype: float64"
      ]
     },
     "execution_count": 14,
     "metadata": {},
     "output_type": "execute_result"
    }
   ],
   "source": [
    "# Minimum cholesterol of zero must be addressed.\n",
    "heart_data['Cholesterol'].describe()"
   ]
  },
  {
   "cell_type": "code",
   "execution_count": 15,
   "id": "2c6eab83",
   "metadata": {},
   "outputs": [
    {
     "data": {
      "text/html": [
       "<div>\n",
       "<style scoped>\n",
       "    .dataframe tbody tr th:only-of-type {\n",
       "        vertical-align: middle;\n",
       "    }\n",
       "\n",
       "    .dataframe tbody tr th {\n",
       "        vertical-align: top;\n",
       "    }\n",
       "\n",
       "    .dataframe thead th {\n",
       "        text-align: right;\n",
       "    }\n",
       "</style>\n",
       "<table border=\"1\" class=\"dataframe\">\n",
       "  <thead>\n",
       "    <tr style=\"text-align: right;\">\n",
       "      <th></th>\n",
       "      <th>Age</th>\n",
       "      <th>Sex</th>\n",
       "      <th>ChestPainType</th>\n",
       "      <th>RestingBP</th>\n",
       "      <th>Cholesterol</th>\n",
       "      <th>FastingBS</th>\n",
       "      <th>RestingECG</th>\n",
       "      <th>MaxHR</th>\n",
       "      <th>ExerciseAngina</th>\n",
       "      <th>Oldpeak</th>\n",
       "      <th>ST_Slope</th>\n",
       "      <th>HeartDisease</th>\n",
       "    </tr>\n",
       "  </thead>\n",
       "  <tbody>\n",
       "    <tr>\n",
       "      <th>293</th>\n",
       "      <td>65</td>\n",
       "      <td>M</td>\n",
       "      <td>ASY</td>\n",
       "      <td>115</td>\n",
       "      <td>0</td>\n",
       "      <td>0</td>\n",
       "      <td>Normal</td>\n",
       "      <td>93</td>\n",
       "      <td>Y</td>\n",
       "      <td>0.0</td>\n",
       "      <td>Flat</td>\n",
       "      <td>1</td>\n",
       "    </tr>\n",
       "    <tr>\n",
       "      <th>410</th>\n",
       "      <td>62</td>\n",
       "      <td>M</td>\n",
       "      <td>ASY</td>\n",
       "      <td>150</td>\n",
       "      <td>0</td>\n",
       "      <td>1</td>\n",
       "      <td>ST</td>\n",
       "      <td>78</td>\n",
       "      <td>N</td>\n",
       "      <td>2.0</td>\n",
       "      <td>Flat</td>\n",
       "      <td>1</td>\n",
       "    </tr>\n",
       "    <tr>\n",
       "      <th>402</th>\n",
       "      <td>65</td>\n",
       "      <td>M</td>\n",
       "      <td>ASY</td>\n",
       "      <td>145</td>\n",
       "      <td>0</td>\n",
       "      <td>1</td>\n",
       "      <td>ST</td>\n",
       "      <td>67</td>\n",
       "      <td>N</td>\n",
       "      <td>0.7</td>\n",
       "      <td>Flat</td>\n",
       "      <td>1</td>\n",
       "    </tr>\n",
       "    <tr>\n",
       "      <th>403</th>\n",
       "      <td>52</td>\n",
       "      <td>M</td>\n",
       "      <td>ASY</td>\n",
       "      <td>135</td>\n",
       "      <td>0</td>\n",
       "      <td>1</td>\n",
       "      <td>Normal</td>\n",
       "      <td>128</td>\n",
       "      <td>Y</td>\n",
       "      <td>2.0</td>\n",
       "      <td>Flat</td>\n",
       "      <td>1</td>\n",
       "    </tr>\n",
       "    <tr>\n",
       "      <th>404</th>\n",
       "      <td>47</td>\n",
       "      <td>M</td>\n",
       "      <td>NAP</td>\n",
       "      <td>110</td>\n",
       "      <td>0</td>\n",
       "      <td>1</td>\n",
       "      <td>Normal</td>\n",
       "      <td>120</td>\n",
       "      <td>Y</td>\n",
       "      <td>0.0</td>\n",
       "      <td>Flat</td>\n",
       "      <td>1</td>\n",
       "    </tr>\n",
       "    <tr>\n",
       "      <th>...</th>\n",
       "      <td>...</td>\n",
       "      <td>...</td>\n",
       "      <td>...</td>\n",
       "      <td>...</td>\n",
       "      <td>...</td>\n",
       "      <td>...</td>\n",
       "      <td>...</td>\n",
       "      <td>...</td>\n",
       "      <td>...</td>\n",
       "      <td>...</td>\n",
       "      <td>...</td>\n",
       "      <td>...</td>\n",
       "    </tr>\n",
       "    <tr>\n",
       "      <th>351</th>\n",
       "      <td>43</td>\n",
       "      <td>M</td>\n",
       "      <td>ASY</td>\n",
       "      <td>140</td>\n",
       "      <td>0</td>\n",
       "      <td>0</td>\n",
       "      <td>ST</td>\n",
       "      <td>140</td>\n",
       "      <td>Y</td>\n",
       "      <td>0.5</td>\n",
       "      <td>Up</td>\n",
       "      <td>1</td>\n",
       "    </tr>\n",
       "    <tr>\n",
       "      <th>352</th>\n",
       "      <td>56</td>\n",
       "      <td>M</td>\n",
       "      <td>ASY</td>\n",
       "      <td>120</td>\n",
       "      <td>0</td>\n",
       "      <td>0</td>\n",
       "      <td>ST</td>\n",
       "      <td>100</td>\n",
       "      <td>Y</td>\n",
       "      <td>-1.0</td>\n",
       "      <td>Down</td>\n",
       "      <td>1</td>\n",
       "    </tr>\n",
       "    <tr>\n",
       "      <th>353</th>\n",
       "      <td>58</td>\n",
       "      <td>M</td>\n",
       "      <td>ASY</td>\n",
       "      <td>130</td>\n",
       "      <td>0</td>\n",
       "      <td>0</td>\n",
       "      <td>ST</td>\n",
       "      <td>100</td>\n",
       "      <td>Y</td>\n",
       "      <td>1.0</td>\n",
       "      <td>Flat</td>\n",
       "      <td>1</td>\n",
       "    </tr>\n",
       "    <tr>\n",
       "      <th>354</th>\n",
       "      <td>55</td>\n",
       "      <td>M</td>\n",
       "      <td>ASY</td>\n",
       "      <td>120</td>\n",
       "      <td>0</td>\n",
       "      <td>0</td>\n",
       "      <td>ST</td>\n",
       "      <td>92</td>\n",
       "      <td>N</td>\n",
       "      <td>0.3</td>\n",
       "      <td>Up</td>\n",
       "      <td>1</td>\n",
       "    </tr>\n",
       "    <tr>\n",
       "      <th>536</th>\n",
       "      <td>62</td>\n",
       "      <td>M</td>\n",
       "      <td>NAP</td>\n",
       "      <td>133</td>\n",
       "      <td>0</td>\n",
       "      <td>1</td>\n",
       "      <td>ST</td>\n",
       "      <td>119</td>\n",
       "      <td>Y</td>\n",
       "      <td>1.2</td>\n",
       "      <td>Flat</td>\n",
       "      <td>1</td>\n",
       "    </tr>\n",
       "  </tbody>\n",
       "</table>\n",
       "<p>171 rows × 12 columns</p>\n",
       "</div>"
      ],
      "text/plain": [
       "     Age Sex ChestPainType  RestingBP  Cholesterol  FastingBS RestingECG  \\\n",
       "293   65   M           ASY        115            0          0     Normal   \n",
       "410   62   M           ASY        150            0          1         ST   \n",
       "402   65   M           ASY        145            0          1         ST   \n",
       "403   52   M           ASY        135            0          1     Normal   \n",
       "404   47   M           NAP        110            0          1     Normal   \n",
       "..   ...  ..           ...        ...          ...        ...        ...   \n",
       "351   43   M           ASY        140            0          0         ST   \n",
       "352   56   M           ASY        120            0          0         ST   \n",
       "353   58   M           ASY        130            0          0         ST   \n",
       "354   55   M           ASY        120            0          0         ST   \n",
       "536   62   M           NAP        133            0          1         ST   \n",
       "\n",
       "     MaxHR ExerciseAngina  Oldpeak ST_Slope  HeartDisease  \n",
       "293     93              Y      0.0     Flat             1  \n",
       "410     78              N      2.0     Flat             1  \n",
       "402     67              N      0.7     Flat             1  \n",
       "403    128              Y      2.0     Flat             1  \n",
       "404    120              Y      0.0     Flat             1  \n",
       "..     ...            ...      ...      ...           ...  \n",
       "351    140              Y      0.5       Up             1  \n",
       "352    100              Y     -1.0     Down             1  \n",
       "353    100              Y      1.0     Flat             1  \n",
       "354     92              N      0.3       Up             1  \n",
       "536    119              Y      1.2     Flat             1  \n",
       "\n",
       "[171 rows x 12 columns]"
      ]
     },
     "execution_count": 15,
     "metadata": {},
     "output_type": "execute_result"
    }
   ],
   "source": [
    "# Check for entries under 85 (an arbitrarily low value but still high enough to be in the realm of possibility).\n",
    "heart_data[heart_data['Cholesterol'] < 85].sort_values(by = 'Cholesterol', ascending = False)"
   ]
  },
  {
   "cell_type": "code",
   "execution_count": 16,
   "id": "113ae595",
   "metadata": {
    "scrolled": true
   },
   "outputs": [
    {
     "data": {
      "image/png": "[encoded data removed]",
      "text/plain": [
       "<Figure size 432x288 with 1 Axes>"
      ]
     },
     "metadata": {
      "needs_background": "light"
     },
     "output_type": "display_data"
    }
   ],
   "source": [
    "# Lots of zeroes.\n",
    "plt.hist(heart_data['Cholesterol'], bins = 30)\n",
    "plt.xlabel('Cholesterol (mg/dl)')\n",
    "plt.ylabel('Count')\n",
    "plt.title('Cholesterol distribution')\n",
    "plt.show()"
   ]
  },
  {
   "cell_type": "code",
   "execution_count": 17,
   "id": "eeb077bb",
   "metadata": {},
   "outputs": [
    {
     "data": {
      "text/html": [
       "<div>\n",
       "<style scoped>\n",
       "    .dataframe tbody tr th:only-of-type {\n",
       "        vertical-align: middle;\n",
       "    }\n",
       "\n",
       "    .dataframe tbody tr th {\n",
       "        vertical-align: top;\n",
       "    }\n",
       "\n",
       "    .dataframe thead th {\n",
       "        text-align: right;\n",
       "    }\n",
       "</style>\n",
       "<table border=\"1\" class=\"dataframe\">\n",
       "  <thead>\n",
       "    <tr style=\"text-align: right;\">\n",
       "      <th></th>\n",
       "      <th>Zero Cholesterol Count</th>\n",
       "      <th>Percentage of Zero Cholesterols</th>\n",
       "    </tr>\n",
       "  </thead>\n",
       "  <tbody>\n",
       "    <tr>\n",
       "      <th>1</th>\n",
       "      <td>171</td>\n",
       "      <td>22.922252</td>\n",
       "    </tr>\n",
       "  </tbody>\n",
       "</table>\n",
       "</div>"
      ],
      "text/plain": [
       "   Zero Cholesterol Count  Percentage of Zero Cholesterols\n",
       "1                     171                        22.922252"
      ]
     },
     "execution_count": 17,
     "metadata": {},
     "output_type": "execute_result"
    }
   ],
   "source": [
    "# Cholesterol has 171 entries of zero, which is ~23% of all the entries in cholesterol.\n",
    "# 23% percent of entries for this column is a lot of data. We will investigate these 171 zero entries.\n",
    "cholest_dict = {'Zero Cholesterol Count': heart_data[heart_data['Cholesterol'] < 85]['Cholesterol'].count(), \n",
    "                'Percentage of Zero Cholesterols': \n",
    "                (heart_data[heart_data['Cholesterol'] < 85].shape[0] / \n",
    "                 (heart_data.shape[0] - heart_data[heart_data['Cholesterol'] < 85].shape[0]) * 100)}\n",
    "pd.DataFrame(data = cholest_dict, index = [1])"
   ]
  },
  {
   "cell_type": "code",
   "execution_count": 18,
   "id": "cf6d503b",
   "metadata": {},
   "outputs": [],
   "source": [
    "# Load in all the seperate datasets. Perhaps we can find a regularity amongst the entries with 0 for cholesterol.\n",
    "va = pd.read_csv(r\"../raw_data/processed.va.data\")\n",
    "cleveland = pd.read_csv(r\"../raw_data/processed.cleveland.data\")\n",
    "switzerland = pd.read_csv(r\"../raw_data/processed.switzerland.data\")\n",
    "hungarian = pd.read_csv(r\"../raw_data/reprocessed.hungarian.data\")"
   ]
  },
  {
   "cell_type": "code",
   "execution_count": 19,
   "id": "241c3bf6",
   "metadata": {},
   "outputs": [
    {
     "data": {
      "text/html": [
       "<div>\n",
       "<style scoped>\n",
       "    .dataframe tbody tr th:only-of-type {\n",
       "        vertical-align: middle;\n",
       "    }\n",
       "\n",
       "    .dataframe tbody tr th {\n",
       "        vertical-align: top;\n",
       "    }\n",
       "\n",
       "    .dataframe thead th {\n",
       "        text-align: right;\n",
       "    }\n",
       "</style>\n",
       "<table border=\"1\" class=\"dataframe\">\n",
       "  <thead>\n",
       "    <tr style=\"text-align: right;\">\n",
       "      <th></th>\n",
       "      <th>63</th>\n",
       "      <th>1</th>\n",
       "      <th>4</th>\n",
       "      <th>140</th>\n",
       "      <th>260</th>\n",
       "      <th>0</th>\n",
       "      <th>1.1</th>\n",
       "      <th>112</th>\n",
       "      <th>1.2</th>\n",
       "      <th>3</th>\n",
       "      <th>2</th>\n",
       "      <th>?</th>\n",
       "      <th>?.1</th>\n",
       "      <th>2.1</th>\n",
       "    </tr>\n",
       "  </thead>\n",
       "  <tbody>\n",
       "    <tr>\n",
       "      <th>0</th>\n",
       "      <td>44</td>\n",
       "      <td>1</td>\n",
       "      <td>4</td>\n",
       "      <td>130</td>\n",
       "      <td>209</td>\n",
       "      <td>0</td>\n",
       "      <td>1</td>\n",
       "      <td>127</td>\n",
       "      <td>0</td>\n",
       "      <td>0</td>\n",
       "      <td>?</td>\n",
       "      <td>?</td>\n",
       "      <td>?</td>\n",
       "      <td>0</td>\n",
       "    </tr>\n",
       "    <tr>\n",
       "      <th>1</th>\n",
       "      <td>60</td>\n",
       "      <td>1</td>\n",
       "      <td>4</td>\n",
       "      <td>132</td>\n",
       "      <td>218</td>\n",
       "      <td>0</td>\n",
       "      <td>1</td>\n",
       "      <td>140</td>\n",
       "      <td>1</td>\n",
       "      <td>1.5</td>\n",
       "      <td>3</td>\n",
       "      <td>?</td>\n",
       "      <td>?</td>\n",
       "      <td>2</td>\n",
       "    </tr>\n",
       "    <tr>\n",
       "      <th>2</th>\n",
       "      <td>55</td>\n",
       "      <td>1</td>\n",
       "      <td>4</td>\n",
       "      <td>142</td>\n",
       "      <td>228</td>\n",
       "      <td>0</td>\n",
       "      <td>1</td>\n",
       "      <td>149</td>\n",
       "      <td>1</td>\n",
       "      <td>2.5</td>\n",
       "      <td>1</td>\n",
       "      <td>?</td>\n",
       "      <td>?</td>\n",
       "      <td>1</td>\n",
       "    </tr>\n",
       "    <tr>\n",
       "      <th>3</th>\n",
       "      <td>66</td>\n",
       "      <td>1</td>\n",
       "      <td>3</td>\n",
       "      <td>110</td>\n",
       "      <td>213</td>\n",
       "      <td>1</td>\n",
       "      <td>2</td>\n",
       "      <td>99</td>\n",
       "      <td>1</td>\n",
       "      <td>1.3</td>\n",
       "      <td>2</td>\n",
       "      <td>?</td>\n",
       "      <td>?</td>\n",
       "      <td>0</td>\n",
       "    </tr>\n",
       "    <tr>\n",
       "      <th>4</th>\n",
       "      <td>66</td>\n",
       "      <td>1</td>\n",
       "      <td>3</td>\n",
       "      <td>120</td>\n",
       "      <td>0</td>\n",
       "      <td>0</td>\n",
       "      <td>1</td>\n",
       "      <td>120</td>\n",
       "      <td>0</td>\n",
       "      <td>-0.5</td>\n",
       "      <td>1</td>\n",
       "      <td>?</td>\n",
       "      <td>?</td>\n",
       "      <td>0</td>\n",
       "    </tr>\n",
       "  </tbody>\n",
       "</table>\n",
       "</div>"
      ],
      "text/plain": [
       "   63  1  4  140  260  0  1.1  112 1.2     3  2  ? ?.1  2.1\n",
       "0  44  1  4  130  209  0    1  127   0     0  ?  ?   ?    0\n",
       "1  60  1  4  132  218  0    1  140   1   1.5  3  ?   ?    2\n",
       "2  55  1  4  142  228  0    1  149   1   2.5  1  ?   ?    1\n",
       "3  66  1  3  110  213  1    2   99   1   1.3  2  ?   ?    0\n",
       "4  66  1  3  120    0  0    1  120   0  -0.5  1  ?   ?    0"
      ]
     },
     "execution_count": 19,
     "metadata": {},
     "output_type": "execute_result"
    }
   ],
   "source": [
    "# They're all equally inscrutable.\n",
    "va.head()"
   ]
  },
  {
   "cell_type": "code",
   "execution_count": 20,
   "id": "928fd65f",
   "metadata": {},
   "outputs": [
    {
     "data": {
      "text/plain": [
       "((199, 14), (302, 14), (122, 14), (293, 1))"
      ]
     },
     "execution_count": 20,
     "metadata": {},
     "output_type": "execute_result"
    }
   ],
   "source": [
    "# Prepare to merge them all into one dataframe.\n",
    "# Hungarian has one column. needs to be 14 to match the othe dataframes.\n",
    "va.shape, cleveland.shape, switzerland.shape, hungarian.shape"
   ]
  },
  {
   "cell_type": "code",
   "execution_count": 21,
   "id": "1349c5d4",
   "metadata": {
    "scrolled": true
   },
   "outputs": [
    {
     "data": {
      "text/html": [
       "<div>\n",
       "<style scoped>\n",
       "    .dataframe tbody tr th:only-of-type {\n",
       "        vertical-align: middle;\n",
       "    }\n",
       "\n",
       "    .dataframe tbody tr th {\n",
       "        vertical-align: top;\n",
       "    }\n",
       "\n",
       "    .dataframe thead th {\n",
       "        text-align: right;\n",
       "    }\n",
       "</style>\n",
       "<table border=\"1\" class=\"dataframe\">\n",
       "  <thead>\n",
       "    <tr style=\"text-align: right;\">\n",
       "      <th></th>\n",
       "      <th>40 1 2 140 289 0 0 172 0 0 -9 -9 -9 0</th>\n",
       "    </tr>\n",
       "  </thead>\n",
       "  <tbody>\n",
       "    <tr>\n",
       "      <th>0</th>\n",
       "      <td>49 0 3 160 180 0 0 156 0 1 2 -9 -9 1</td>\n",
       "    </tr>\n",
       "    <tr>\n",
       "      <th>1</th>\n",
       "      <td>37 1 2 130 283 0 1 98 0 0 -9 -9 -9 0</td>\n",
       "    </tr>\n",
       "    <tr>\n",
       "      <th>2</th>\n",
       "      <td>48 0 4 138 214 0 0 108 1 1.5 2 -9 -9 3</td>\n",
       "    </tr>\n",
       "    <tr>\n",
       "      <th>3</th>\n",
       "      <td>54 1 3 150 -9 0 0 122 0 0 -9 -9 -9 0</td>\n",
       "    </tr>\n",
       "    <tr>\n",
       "      <th>4</th>\n",
       "      <td>39 1 3 120 339 0 0 170 0 0 -9 -9 -9 0</td>\n",
       "    </tr>\n",
       "  </tbody>\n",
       "</table>\n",
       "</div>"
      ],
      "text/plain": [
       "    40 1 2 140 289 0 0 172 0 0 -9 -9 -9 0\n",
       "0    49 0 3 160 180 0 0 156 0 1 2 -9 -9 1\n",
       "1    37 1 2 130 283 0 1 98 0 0 -9 -9 -9 0\n",
       "2  48 0 4 138 214 0 0 108 1 1.5 2 -9 -9 3\n",
       "3    54 1 3 150 -9 0 0 122 0 0 -9 -9 -9 0\n",
       "4   39 1 3 120 339 0 0 170 0 0 -9 -9 -9 0"
      ]
     },
     "execution_count": 21,
     "metadata": {},
     "output_type": "execute_result"
    }
   ],
   "source": [
    "hungarian.head()"
   ]
  },
  {
   "cell_type": "code",
   "execution_count": 22,
   "id": "41f487d0",
   "metadata": {
    "scrolled": true
   },
   "outputs": [],
   "source": [
    "# Change dataframe to have 14 columns.\n",
    "column = hungarian.columns.values[0]\n",
    "hungarian = hungarian[column].str.split(' ', expand=True)"
   ]
  },
  {
   "cell_type": "code",
   "execution_count": 23,
   "id": "12f96259",
   "metadata": {},
   "outputs": [
    {
     "data": {
      "text/plain": [
       "(293, 14)"
      ]
     },
     "execution_count": 23,
     "metadata": {},
     "output_type": "execute_result"
    }
   ],
   "source": [
    "hungarian.shape"
   ]
  },
  {
   "cell_type": "code",
   "execution_count": 24,
   "id": "7503cd49",
   "metadata": {},
   "outputs": [],
   "source": [
    "# Function to rename columns and add new column for dataframe source.\n",
    "def renamer(dataframe, source):\n",
    "    new_columns = ['age', 'sex', 'cp', 'trestbps', 'chol', 'fbs', 'restecg', 'thalach', 'exang', \n",
    "                   'oldpeak', 'slope', 'ca', 'thal', 'num'] #column names taken from documentation\n",
    "    if source == 'hungarian':\n",
    "        old_columns = list(dataframe.columns.values)\n",
    "        for name in old_columns:\n",
    "            name = str(name)\n",
    "    else:\n",
    "        old_columns = list(dataframe.columns.values)\n",
    "    mapper = dict(zip(old_columns, new_columns))\n",
    "    dataframe = dataframe.rename(mapper = mapper, axis = 1)\n",
    "    dataframe['source'] = source\n",
    "    return dataframe"
   ]
  },
  {
   "cell_type": "code",
   "execution_count": 25,
   "id": "0aa9e8df",
   "metadata": {},
   "outputs": [
    {
     "data": {
      "text/plain": [
       "((199, 15), (302, 15), (122, 15), (293, 15))"
      ]
     },
     "execution_count": 25,
     "metadata": {},
     "output_type": "execute_result"
    }
   ],
   "source": [
    "# Apply function to each dataframe.\n",
    "va = renamer(va, 'va')\n",
    "cleveland = renamer(cleveland, 'cleveland')\n",
    "switzerland = renamer(switzerland, 'switzerland')\n",
    "hungarian = renamer(hungarian, 'hungarian')\n",
    "va.shape, cleveland.shape, switzerland.shape, hungarian.shape"
   ]
  },
  {
   "cell_type": "code",
   "execution_count": 26,
   "id": "6214cf3d",
   "metadata": {},
   "outputs": [],
   "source": [
    "# Combine all the dataframes.\n",
    "seperate_dfs = [cleveland, switzerland, hungarian]\n",
    "combined_dfs = va.append(seperate_dfs)"
   ]
  },
  {
   "cell_type": "code",
   "execution_count": 27,
   "id": "70c9e9d0",
   "metadata": {},
   "outputs": [
    {
     "data": {
      "text/html": [
       "<div>\n",
       "<style scoped>\n",
       "    .dataframe tbody tr th:only-of-type {\n",
       "        vertical-align: middle;\n",
       "    }\n",
       "\n",
       "    .dataframe tbody tr th {\n",
       "        vertical-align: top;\n",
       "    }\n",
       "\n",
       "    .dataframe thead th {\n",
       "        text-align: right;\n",
       "    }\n",
       "</style>\n",
       "<table border=\"1\" class=\"dataframe\">\n",
       "  <thead>\n",
       "    <tr style=\"text-align: right;\">\n",
       "      <th></th>\n",
       "      <th>age</th>\n",
       "      <th>sex</th>\n",
       "      <th>cp</th>\n",
       "      <th>trestbps</th>\n",
       "      <th>chol</th>\n",
       "      <th>fbs</th>\n",
       "      <th>restecg</th>\n",
       "      <th>thalach</th>\n",
       "      <th>exang</th>\n",
       "      <th>oldpeak</th>\n",
       "      <th>slope</th>\n",
       "      <th>ca</th>\n",
       "      <th>thal</th>\n",
       "      <th>num</th>\n",
       "      <th>source</th>\n",
       "    </tr>\n",
       "  </thead>\n",
       "  <tbody>\n",
       "    <tr>\n",
       "      <th>0</th>\n",
       "      <td>44</td>\n",
       "      <td>1</td>\n",
       "      <td>4</td>\n",
       "      <td>130</td>\n",
       "      <td>209</td>\n",
       "      <td>0</td>\n",
       "      <td>1</td>\n",
       "      <td>127</td>\n",
       "      <td>0</td>\n",
       "      <td>0</td>\n",
       "      <td>?</td>\n",
       "      <td>?</td>\n",
       "      <td>?</td>\n",
       "      <td>0</td>\n",
       "      <td>va</td>\n",
       "    </tr>\n",
       "    <tr>\n",
       "      <th>1</th>\n",
       "      <td>60</td>\n",
       "      <td>1</td>\n",
       "      <td>4</td>\n",
       "      <td>132</td>\n",
       "      <td>218</td>\n",
       "      <td>0</td>\n",
       "      <td>1</td>\n",
       "      <td>140</td>\n",
       "      <td>1</td>\n",
       "      <td>1.5</td>\n",
       "      <td>3</td>\n",
       "      <td>?</td>\n",
       "      <td>?</td>\n",
       "      <td>2</td>\n",
       "      <td>va</td>\n",
       "    </tr>\n",
       "    <tr>\n",
       "      <th>2</th>\n",
       "      <td>55</td>\n",
       "      <td>1</td>\n",
       "      <td>4</td>\n",
       "      <td>142</td>\n",
       "      <td>228</td>\n",
       "      <td>0</td>\n",
       "      <td>1</td>\n",
       "      <td>149</td>\n",
       "      <td>1</td>\n",
       "      <td>2.5</td>\n",
       "      <td>1</td>\n",
       "      <td>?</td>\n",
       "      <td>?</td>\n",
       "      <td>1</td>\n",
       "      <td>va</td>\n",
       "    </tr>\n",
       "    <tr>\n",
       "      <th>3</th>\n",
       "      <td>66</td>\n",
       "      <td>1</td>\n",
       "      <td>3</td>\n",
       "      <td>110</td>\n",
       "      <td>213</td>\n",
       "      <td>1</td>\n",
       "      <td>2</td>\n",
       "      <td>99</td>\n",
       "      <td>1</td>\n",
       "      <td>1.3</td>\n",
       "      <td>2</td>\n",
       "      <td>?</td>\n",
       "      <td>?</td>\n",
       "      <td>0</td>\n",
       "      <td>va</td>\n",
       "    </tr>\n",
       "    <tr>\n",
       "      <th>4</th>\n",
       "      <td>66</td>\n",
       "      <td>1</td>\n",
       "      <td>3</td>\n",
       "      <td>120</td>\n",
       "      <td>0</td>\n",
       "      <td>0</td>\n",
       "      <td>1</td>\n",
       "      <td>120</td>\n",
       "      <td>0</td>\n",
       "      <td>-0.5</td>\n",
       "      <td>1</td>\n",
       "      <td>?</td>\n",
       "      <td>?</td>\n",
       "      <td>0</td>\n",
       "      <td>va</td>\n",
       "    </tr>\n",
       "  </tbody>\n",
       "</table>\n",
       "</div>"
      ],
      "text/plain": [
       "  age sex cp trestbps chol fbs restecg thalach exang oldpeak slope ca thal  \\\n",
       "0  44   1  4      130  209   0       1     127     0       0     ?  ?    ?   \n",
       "1  60   1  4      132  218   0       1     140     1     1.5     3  ?    ?   \n",
       "2  55   1  4      142  228   0       1     149     1     2.5     1  ?    ?   \n",
       "3  66   1  3      110  213   1       2      99     1     1.3     2  ?    ?   \n",
       "4  66   1  3      120    0   0       1     120     0    -0.5     1  ?    ?   \n",
       "\n",
       "  num source  \n",
       "0   0     va  \n",
       "1   2     va  \n",
       "2   1     va  \n",
       "3   0     va  \n",
       "4   0     va  "
      ]
     },
     "execution_count": 27,
     "metadata": {},
     "output_type": "execute_result"
    }
   ],
   "source": [
    "combined_dfs.head()"
   ]
  },
  {
   "cell_type": "code",
   "execution_count": 28,
   "id": "b024d905",
   "metadata": {},
   "outputs": [
    {
     "data": {
      "text/plain": [
       "(916, 15)"
      ]
     },
     "execution_count": 28,
     "metadata": {},
     "output_type": "execute_result"
    }
   ],
   "source": [
    "combined_dfs.shape"
   ]
  },
  {
   "cell_type": "code",
   "execution_count": 29,
   "id": "fdb65a22",
   "metadata": {},
   "outputs": [
    {
     "data": {
      "text/plain": [
       "array(['switzerland'], dtype=object)"
      ]
     },
     "execution_count": 29,
     "metadata": {},
     "output_type": "execute_result"
    }
   ],
   "source": [
    "# All 0 cholesterol values come from the switzerland dataset...\n",
    "combined_dfs[combined_dfs['chol'] == 0]['source'].unique()"
   ]
  },
  {
   "cell_type": "code",
   "execution_count": 30,
   "id": "b771e322",
   "metadata": {},
   "outputs": [
    {
     "data": {
      "text/plain": [
       "array([0], dtype=int64)"
      ]
     },
     "execution_count": 30,
     "metadata": {},
     "output_type": "execute_result"
    }
   ],
   "source": [
    "# Furthermore, the switzerland data set has all zeros for cholesterol.\n",
    "switzerland['chol'].unique()"
   ]
  },
  {
   "cell_type": "code",
   "execution_count": 31,
   "id": "68bd1cd9",
   "metadata": {},
   "outputs": [
    {
     "data": {
      "text/plain": [
       "(122, 171)"
      ]
     },
     "execution_count": 31,
     "metadata": {},
     "output_type": "execute_result"
    }
   ],
   "source": [
    "# Difference between switzerland dataframe and final dataframe's list of zero cholesterol entries is 49.\n",
    "len(switzerland), len(heart_data[heart_data['Cholesterol'] == 0])"
   ]
  },
  {
   "cell_type": "code",
   "execution_count": 32,
   "id": "6844e9a0",
   "metadata": {},
   "outputs": [
    {
     "data": {
      "image/png": "[encoded data removed]",
      "text/plain": [
       "<Figure size 432x288 with 1 Axes>"
      ]
     },
     "metadata": {
      "needs_background": "light"
     },
     "output_type": "display_data"
    }
   ],
   "source": [
    "# Something else to consider is the amount of heart disease that occurred for this data from switzerland.\n",
    "sw = heart_data[heart_data['Cholesterol'] == 0]\n",
    "sns.countplot(data = sw, x = 'HeartDisease')\n",
    "plt.show()"
   ]
  },
  {
   "cell_type": "markdown",
   "id": "4590b29f",
   "metadata": {},
   "source": [
    "That's a pretty one sided distribution of heart disease havers among the Swiss portion of the data set."
   ]
  },
  {
   "cell_type": "code",
   "execution_count": 33,
   "id": "4e9e3330",
   "metadata": {
    "scrolled": true
   },
   "outputs": [
    {
     "data": {
      "image/png": "[encoded data removed]",
      "text/plain": [
       "<Figure size 432x288 with 1 Axes>"
      ]
     },
     "metadata": {
      "needs_background": "light"
     },
     "output_type": "display_data"
    }
   ],
   "source": [
    "# Check cholesterol distribution without zero entries.\n",
    "cholesterol_no_zeroes = heart_data[heart_data['Cholesterol'] > 85]['Cholesterol']\n",
    "plt.hist(cholesterol_no_zeroes, bins = 30)\n",
    "plt.xlabel('Cholesterol (mmHg)')\n",
    "plt.ylabel('Count')\n",
    "plt.title('Cholesterol distribution')\n",
    "plt.show()"
   ]
  },
  {
   "cell_type": "markdown",
   "id": "860a7b6d",
   "metadata": {},
   "source": [
    "In light of the fairly normal, but slightly right skewed distribution of cholesterol, I feel median is an appropriate number to impute. Especially considering all the positive HD cases we'll lose if we abandon this data."
   ]
  },
  {
   "cell_type": "code",
   "execution_count": 34,
   "id": "a91b00b6",
   "metadata": {
    "scrolled": true
   },
   "outputs": [
    {
     "data": {
      "text/plain": [
       "count    917.000000\n",
       "mean     240.600872\n",
       "std       54.009298\n",
       "min       85.000000\n",
       "25%      214.000000\n",
       "50%      223.000000\n",
       "75%      267.000000\n",
       "max      603.000000\n",
       "Name: Cholesterol, dtype: float64"
      ]
     },
     "execution_count": 34,
     "metadata": {},
     "output_type": "execute_result"
    }
   ],
   "source": [
    "# Impute the median value for cholesterol, in place of zero.\n",
    "heart_data['Cholesterol'] = heart_data['Cholesterol'].replace(0, heart_data['Cholesterol'].median())\n",
    "heart_data['Cholesterol'].describe()"
   ]
  },
  {
   "cell_type": "code",
   "execution_count": 35,
   "id": "2f9d0d5c",
   "metadata": {},
   "outputs": [
    {
     "data": {
      "text/plain": [
       "count    917.000000\n",
       "mean     136.789531\n",
       "std       25.467129\n",
       "min       60.000000\n",
       "25%      120.000000\n",
       "50%      138.000000\n",
       "75%      156.000000\n",
       "max      202.000000\n",
       "Name: MaxHR, dtype: float64"
      ]
     },
     "execution_count": 35,
     "metadata": {},
     "output_type": "execute_result"
    }
   ],
   "source": [
    "heart_data['MaxHR'].describe()"
   ]
  },
  {
   "cell_type": "code",
   "execution_count": 36,
   "id": "528e6b1b",
   "metadata": {},
   "outputs": [
    {
     "data": {
      "image/png": "[encoded data removed]",
      "text/plain": [
       "<Figure size 432x288 with 1 Axes>"
      ]
     },
     "metadata": {
      "needs_background": "light"
     },
     "output_type": "display_data"
    }
   ],
   "source": [
    "plt.hist(heart_data['MaxHR'], bins = 30)\n",
    "plt.xlabel('Max heart rate (bpm)')\n",
    "plt.ylabel('Count')\n",
    "plt.title('Max heart rate distribution')\n",
    "plt.show()"
   ]
  },
  {
   "cell_type": "code",
   "execution_count": 37,
   "id": "810f8790",
   "metadata": {},
   "outputs": [
    {
     "data": {
      "text/plain": [
       "count    917.000000\n",
       "mean       0.886696\n",
       "std        1.066960\n",
       "min       -2.600000\n",
       "25%        0.000000\n",
       "50%        0.600000\n",
       "75%        1.500000\n",
       "max        6.200000\n",
       "Name: Oldpeak, dtype: float64"
      ]
     },
     "execution_count": 37,
     "metadata": {},
     "output_type": "execute_result"
    }
   ],
   "source": [
    "# Minimum Oldpeak value is negative.\n",
    "heart_data['Oldpeak'].describe()"
   ]
  },
  {
   "cell_type": "code",
   "execution_count": 38,
   "id": "06a405f6",
   "metadata": {},
   "outputs": [
    {
     "data": {
      "image/png": "[encoded data removed]",
      "text/plain": [
       "<Figure size 432x288 with 1 Axes>"
      ]
     },
     "metadata": {
      "needs_background": "light"
     },
     "output_type": "display_data"
    }
   ],
   "source": [
    "plt.hist(heart_data['Oldpeak'], bins = 30)\n",
    "plt.xlabel('Oldpeak (mm below baseline)')\n",
    "plt.ylabel('Count')\n",
    "plt.title('Oldpeak distribution')\n",
    "plt.show()"
   ]
  },
  {
   "cell_type": "code",
   "execution_count": 39,
   "id": "69cbd487",
   "metadata": {},
   "outputs": [
    {
     "data": {
      "text/plain": [
       "13"
      ]
     },
     "execution_count": 39,
     "metadata": {},
     "output_type": "execute_result"
    }
   ],
   "source": [
    "heart_data[heart_data['Oldpeak'] < 0]['Oldpeak'].count()"
   ]
  },
  {
   "cell_type": "markdown",
   "id": "9f58a675",
   "metadata": {},
   "source": [
    "### 1.2 Validating Categorical and Text Columns"
   ]
  },
  {
   "cell_type": "code",
   "execution_count": 40,
   "id": "26348087",
   "metadata": {},
   "outputs": [
    {
     "data": {
      "text/plain": [
       "True"
      ]
     },
     "execution_count": 40,
     "metadata": {},
     "output_type": "execute_result"
    }
   ],
   "source": [
    "# Check to see if there are any entries in the Sex column that are not M or F.\n",
    "len(heart_data[(heart_data['Sex'] == 'M') + (heart_data['Sex'] == 'F')]) == len(heart_data)"
   ]
  },
  {
   "cell_type": "code",
   "execution_count": 41,
   "id": "4bba614e",
   "metadata": {},
   "outputs": [
    {
     "data": {
      "text/plain": [
       "True"
      ]
     },
     "execution_count": 41,
     "metadata": {},
     "output_type": "execute_result"
    }
   ],
   "source": [
    "# Check to see if there are any entries in the Chest pain type column that are not TA, NAP, ATA, or ASY.\n",
    "len(heart_data[(heart_data['ChestPainType'] == 'TA') \n",
    "               + (heart_data['ChestPainType'] == 'NAP') \n",
    "               + (heart_data['ChestPainType'] == 'ATA')\n",
    "               + (heart_data['ChestPainType'] == 'ASY')]) == len(heart_data)"
   ]
  },
  {
   "cell_type": "code",
   "execution_count": 42,
   "id": "3807ffa4",
   "metadata": {},
   "outputs": [
    {
     "data": {
      "text/plain": [
       "True"
      ]
     },
     "execution_count": 42,
     "metadata": {},
     "output_type": "execute_result"
    }
   ],
   "source": [
    "# Check to see if there are any entries in the FastingBS column that are not 0 or 1.\n",
    "len(heart_data[(heart_data['FastingBS'] == 0) \n",
    "               + (heart_data['FastingBS'] == 1)]) == len(heart_data)"
   ]
  },
  {
   "cell_type": "code",
   "execution_count": 43,
   "id": "e527b543",
   "metadata": {},
   "outputs": [
    {
     "data": {
      "text/plain": [
       "True"
      ]
     },
     "execution_count": 43,
     "metadata": {},
     "output_type": "execute_result"
    }
   ],
   "source": [
    "# Check to see if there are any entries in the Resting ECG column that are not Normal, ST, or LVH.\n",
    "len(heart_data[(heart_data['RestingECG'] == 'Normal') \n",
    "               + (heart_data['RestingECG'] == 'ST') \n",
    "               + (heart_data['RestingECG'] == 'LVH')]) == len(heart_data)"
   ]
  },
  {
   "cell_type": "code",
   "execution_count": 44,
   "id": "63af9c29",
   "metadata": {},
   "outputs": [
    {
     "data": {
      "text/plain": [
       "True"
      ]
     },
     "execution_count": 44,
     "metadata": {},
     "output_type": "execute_result"
    }
   ],
   "source": [
    "# Check to see if there are any entries in the ExerciseAngina column that are not N or Y.\n",
    "len(heart_data[(heart_data['ExerciseAngina'] == 'N') \n",
    "               + (heart_data['ExerciseAngina'] == 'Y')]) == len(heart_data)"
   ]
  },
  {
   "cell_type": "code",
   "execution_count": 45,
   "id": "2ab6ead8",
   "metadata": {},
   "outputs": [
    {
     "data": {
      "text/plain": [
       "True"
      ]
     },
     "execution_count": 45,
     "metadata": {},
     "output_type": "execute_result"
    }
   ],
   "source": [
    "# Check to see if there are any entries in the ST_Slope column that are not Up, Flat, or Down.\n",
    "len(heart_data[(heart_data['ST_Slope'] == 'Up') \n",
    "               + (heart_data['ST_Slope'] == 'Flat') \n",
    "               + (heart_data['ST_Slope'] == 'Down')]) == len(heart_data)"
   ]
  },
  {
   "cell_type": "code",
   "execution_count": 46,
   "id": "06a42b5e",
   "metadata": {},
   "outputs": [
    {
     "data": {
      "text/plain": [
       "True"
      ]
     },
     "execution_count": 46,
     "metadata": {},
     "output_type": "execute_result"
    }
   ],
   "source": [
    "# Check to see if there are any entries in the HeartDisease column that are not 0 or 1.\n",
    "len(heart_data[(heart_data['HeartDisease'] == 0) \n",
    "               + (heart_data['HeartDisease'] == 1)]) == len(heart_data)"
   ]
  },
  {
   "cell_type": "code",
   "execution_count": 47,
   "id": "dc1d8c33",
   "metadata": {},
   "outputs": [],
   "source": [
    "# Save the data to a new csv file.\n",
    "heart_data.to_csv('../Data/heart_data_cleaned.csv', index=False)"
   ]
  },
  {
   "cell_type": "code",
   "execution_count": 48,
   "id": "30a0653d",
   "metadata": {},
   "outputs": [],
   "source": [
    "# Also need to save a version with the zero cholesterol values dropped.\n",
    "df = pd.read_csv(\"../raw_data/heart_data_raw.csv\")"
   ]
  },
  {
   "cell_type": "code",
   "execution_count": 49,
   "id": "b29e7466",
   "metadata": {},
   "outputs": [],
   "source": [
    "df = df[df['Cholesterol'] != 0]"
   ]
  },
  {
   "cell_type": "code",
   "execution_count": 50,
   "id": "df24cd61",
   "metadata": {},
   "outputs": [],
   "source": [
    "df.to_csv('../Data/heart_data_dropped_chol.csv', index=False)"
   ]
  },
  {
   "cell_type": "markdown",
   "id": "b04dd926",
   "metadata": {},
   "source": [
    "## **Summary**\n",
    "\n",
    "The raw .csv file comes to us with 918 rows and 12 columns. The columns have a lot of mixed data types, with the slight majority being integers. There are no missing values. We then move on to validate the data.\n",
    "\n",
    "Integer columns: \n",
    "\n",
    "RestingBP has a minimum of 0, which only a dead person could have. Max is 200, which is severely above average, but perhaps not invalid given the nature of our dataset. We filter for results below 50, and find only the one zero entry. We see that this entry has zero for other columns a living person could not have zero for, like cholesterol. We delete this entry.\n",
    "\n",
    "Cholesterol has 171 zero entries, about 23% of the data, which seem to be in error. This is too significant a portion of the data to pass over without further investigation. As noted below, this dataset is actually composed of four or five other datasets that come from Hungary, Switzerland, and the United States. The uploader provided a means to retrieve each original dataset. Using those datasets, we found that the dataset from Switzerland was the only dataset with zeros for cholesterol, and every single cholesterol entry in it is zero. Curiously, the combined dataset as it's provided on kaggle has 171 entries with zero for cholesterol, while the switzerland dataset has only 122 entries. Somehow 49 new observations, presumably also from Switzerland, were added into the final dataset. I will attempt to model the data both with imputed values for and without the 171 entries with zero for cholesterol. Both approaches are justifiable to some extent. Since the suspicious zero cholesterol data all comes from the same place, dropping the values is at least systematic and may not necessarily harm the predictive power of the rest of the data. On the other hand, since the cholesterol column without the zero entries has a reasonably normal distribution with a slight right skew, the median value may be a good value to impute.\n",
    "\n",
    "Oldpeak has 13 negative values. This isn't actually a problem, but it is a confusing data convention. Since the oldpeak metric here is tracked in positive millimeters *below* the baseline, negative measurements must mean millimeters above the baseline.\n",
    "\n",
    "All other categories seem to check out."
   ]
  },
  {
   "cell_type": "markdown",
   "id": "773ec306",
   "metadata": {},
   "source": [
    "The original dataset uploader has provided a link for the sources of this dataset: \n",
    "\n",
    "https://archive.ics.uci.edu/ml/machine-learning-databases/heart-disease/\n",
    "\n",
    "In their original upload, they identify 5 sources from which this combined dataset comes from:\n",
    "\n",
    "Cleveland: 303 observations\n",
    "Hungarian: 294 observations\n",
    "Switzerland: 123 observations\n",
    "Long Beach VA: 200 observations\n",
    "Stalog (Heart) Data Set: 270 observations\n",
    "\n",
    "In some of the documentation found in the above repository, they only identify 4 sources (Stalog is missing)."
   ]
  }
 ],
 "metadata": {
  "kernelspec": {
   "display_name": "Python 3 (ipykernel)",
   "language": "python",
   "name": "python3"
  },
  "language_info": {
   "codemirror_mode": {
    "name": "ipython",
    "version": 3
   },
   "file_extension": ".py",
   "mimetype": "text/x-python",
   "name": "python",
   "nbconvert_exporter": "python",
   "pygments_lexer": "ipython3",
   "version": "3.8.8"
  }
 },
 "nbformat": 4,
 "nbformat_minor": 5
}
